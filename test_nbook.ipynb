{
 "cells": [
  {
   "cell_type": "code",
   "execution_count": 1,
   "metadata": {},
   "outputs": [],
   "source": [
    "data_dir = \"C:/Datasets/Gavin0/\"\n",
    "file_list = [\n",
    "\t# \"Myo_Accel_14_12_16.txt\",\n",
    "\t# \"Myo_Gyro_14_12_16.txt\",\n",
    "\t\"Phone_Accel_14_12_16.txt\",\n",
    "\t\"Phone_Gyro_14_12_16.txt\",\n",
    "\t\"Watch_Accel_14_12_16.txt\",\n",
    "\t\"Watch_Gyro_14_12_16.txt\"\n",
    "]\n"
   ]
  },
  {
   "cell_type": "code",
   "execution_count": 3,
   "metadata": {
    "scrolled": false
   },
   "outputs": [
    {
     "data": {
      "text/html": [
       "<script>requirejs.config({paths: { 'plotly': ['https://cdn.plot.ly/plotly-latest.min']},});if(!window.Plotly) {{require(['plotly'],function(plotly) {window.Plotly=plotly;});}}</script>"
      ],
      "text/vnd.plotly.v1+html": [
       "<script>requirejs.config({paths: { 'plotly': ['https://cdn.plot.ly/plotly-latest.min']},});if(!window.Plotly) {{require(['plotly'],function(plotly) {window.Plotly=plotly;});}}</script>"
      ]
     },
     "metadata": {},
     "output_type": "display_data"
    },
    {
     "name": "stdout",
     "output_type": "stream",
     "text": [
      "converting files to dicts...done\n",
      "sampling data...done\n",
      "plotting data...This is the format of your plot grid:\n",
      "[ (1,1) x1,y1 ]   \n",
      "[ (2,1) x2,y2 ]   \n",
      "[ (3,1) x3,y3 ]   \n",
      "[ (4,1) x4,y4 ]   \n",
      "[ (5,1) x5,y5 ]   \n",
      "[ (6,1) x6,y6 ]   \n",
      "[ (7,1) x7,y7 ]   \n",
      "[ (8,1) x8,y8 ]   \n",
      "[ (9,1) x9,y9 ]   \n",
      "[ (10,1) x10,y10 ]\n",
      "[ (11,1) x11,y11 ]\n",
      "[ (12,1) x12,y12 ]\n",
      "\n",
      "done\n"
     ]
    }
   ],
   "source": [
    "%run wrangle_funcs.py\n",
    "data = make_data(data_dir, file_list)"
   ]
  },
  {
   "cell_type": "code",
   "execution_count": null,
   "metadata": {
    "collapsed": true
   },
   "outputs": [],
   "source": []
  }
 ],
 "metadata": {
  "celltoolbar": "Raw Cell Format",
  "kernelspec": {
   "display_name": "Python 3",
   "language": "python",
   "name": "python3"
  },
  "language_info": {
   "codemirror_mode": {
    "name": "ipython",
    "version": 3
   },
   "file_extension": ".py",
   "mimetype": "text/x-python",
   "name": "python",
   "nbconvert_exporter": "python",
   "pygments_lexer": "ipython3",
   "version": "3.6.1"
  }
 },
 "nbformat": 4,
 "nbformat_minor": 2
}
